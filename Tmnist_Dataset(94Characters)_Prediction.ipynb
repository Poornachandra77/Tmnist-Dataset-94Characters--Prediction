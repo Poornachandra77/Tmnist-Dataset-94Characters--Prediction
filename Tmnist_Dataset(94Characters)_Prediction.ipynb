{
  "nbformat": 4,
  "nbformat_minor": 0,
  "metadata": {
    "colab": {
      "provenance": []
    },
    "kernelspec": {
      "name": "python3",
      "display_name": "Python 3"
    },
    "language_info": {
      "name": "python"
    }
  },
  "cells": [
    {
      "cell_type": "markdown",
      "source": [
        "# **TMNIST DATASET (94 Characters) PREDICTION**"
      ],
      "metadata": {
        "id": "fZi-LqI3SYkY"
      }
    },
    {
      "cell_type": "markdown",
      "source": [
        "This project is designed to classify characters from the TMNIST dataset, which contains 94 different character classes. Each record in the dataset has:\n",
        "- **Font Name**: The first column represents the font name (e.g., *Chivo-Italic*, *Sen-Bold*).\n",
        "- **Label**: The second column represents the label (a number from 0-9).\n",
        "- **Pixel Values**: The remaining 784 elements represent the grayscale pixel values (ranging from 0-255) for a 28x28 pixel image.\n"
      ],
      "metadata": {
        "id": "_hynwDPflUz3"
      }
    },
    {
      "cell_type": "markdown",
      "source": [
        "## **Linking the Dataset**\n",
        "\n",
        "- The dataset is linked and downloaded using Kaggle API commands.\n",
        "- Commands are used to set up Kaggle authentication and download the TMNIST dataset file.\n",
        "\n"
      ],
      "metadata": {
        "id": "cn_VxE5KW-Yu"
      }
    },
    {
      "cell_type": "code",
      "source": [
        "!pip install -q kaggle\n",
        "from google.colab import files\n",
        "files.upload()"
      ],
      "metadata": {
        "id": "x_Nlqw760ZD5",
        "colab": {
          "base_uri": "https://localhost:8080/",
          "height": 73
        },
        "outputId": "88522cac-7fec-4d90-db49-724bc247f98f"
      },
      "execution_count": 1,
      "outputs": [
        {
          "output_type": "display_data",
          "data": {
            "text/plain": [
              "<IPython.core.display.HTML object>"
            ],
            "text/html": [
              "\n",
              "     <input type=\"file\" id=\"files-91b0ad43-fb2e-4dcd-81e4-9bbe5b835070\" name=\"files[]\" multiple disabled\n",
              "        style=\"border:none\" />\n",
              "     <output id=\"result-91b0ad43-fb2e-4dcd-81e4-9bbe5b835070\">\n",
              "      Upload widget is only available when the cell has been executed in the\n",
              "      current browser session. Please rerun this cell to enable.\n",
              "      </output>\n",
              "      <script>// Copyright 2017 Google LLC\n",
              "//\n",
              "// Licensed under the Apache License, Version 2.0 (the \"License\");\n",
              "// you may not use this file except in compliance with the License.\n",
              "// You may obtain a copy of the License at\n",
              "//\n",
              "//      http://www.apache.org/licenses/LICENSE-2.0\n",
              "//\n",
              "// Unless required by applicable law or agreed to in writing, software\n",
              "// distributed under the License is distributed on an \"AS IS\" BASIS,\n",
              "// WITHOUT WARRANTIES OR CONDITIONS OF ANY KIND, either express or implied.\n",
              "// See the License for the specific language governing permissions and\n",
              "// limitations under the License.\n",
              "\n",
              "/**\n",
              " * @fileoverview Helpers for google.colab Python module.\n",
              " */\n",
              "(function(scope) {\n",
              "function span(text, styleAttributes = {}) {\n",
              "  const element = document.createElement('span');\n",
              "  element.textContent = text;\n",
              "  for (const key of Object.keys(styleAttributes)) {\n",
              "    element.style[key] = styleAttributes[key];\n",
              "  }\n",
              "  return element;\n",
              "}\n",
              "\n",
              "// Max number of bytes which will be uploaded at a time.\n",
              "const MAX_PAYLOAD_SIZE = 100 * 1024;\n",
              "\n",
              "function _uploadFiles(inputId, outputId) {\n",
              "  const steps = uploadFilesStep(inputId, outputId);\n",
              "  const outputElement = document.getElementById(outputId);\n",
              "  // Cache steps on the outputElement to make it available for the next call\n",
              "  // to uploadFilesContinue from Python.\n",
              "  outputElement.steps = steps;\n",
              "\n",
              "  return _uploadFilesContinue(outputId);\n",
              "}\n",
              "\n",
              "// This is roughly an async generator (not supported in the browser yet),\n",
              "// where there are multiple asynchronous steps and the Python side is going\n",
              "// to poll for completion of each step.\n",
              "// This uses a Promise to block the python side on completion of each step,\n",
              "// then passes the result of the previous step as the input to the next step.\n",
              "function _uploadFilesContinue(outputId) {\n",
              "  const outputElement = document.getElementById(outputId);\n",
              "  const steps = outputElement.steps;\n",
              "\n",
              "  const next = steps.next(outputElement.lastPromiseValue);\n",
              "  return Promise.resolve(next.value.promise).then((value) => {\n",
              "    // Cache the last promise value to make it available to the next\n",
              "    // step of the generator.\n",
              "    outputElement.lastPromiseValue = value;\n",
              "    return next.value.response;\n",
              "  });\n",
              "}\n",
              "\n",
              "/**\n",
              " * Generator function which is called between each async step of the upload\n",
              " * process.\n",
              " * @param {string} inputId Element ID of the input file picker element.\n",
              " * @param {string} outputId Element ID of the output display.\n",
              " * @return {!Iterable<!Object>} Iterable of next steps.\n",
              " */\n",
              "function* uploadFilesStep(inputId, outputId) {\n",
              "  const inputElement = document.getElementById(inputId);\n",
              "  inputElement.disabled = false;\n",
              "\n",
              "  const outputElement = document.getElementById(outputId);\n",
              "  outputElement.innerHTML = '';\n",
              "\n",
              "  const pickedPromise = new Promise((resolve) => {\n",
              "    inputElement.addEventListener('change', (e) => {\n",
              "      resolve(e.target.files);\n",
              "    });\n",
              "  });\n",
              "\n",
              "  const cancel = document.createElement('button');\n",
              "  inputElement.parentElement.appendChild(cancel);\n",
              "  cancel.textContent = 'Cancel upload';\n",
              "  const cancelPromise = new Promise((resolve) => {\n",
              "    cancel.onclick = () => {\n",
              "      resolve(null);\n",
              "    };\n",
              "  });\n",
              "\n",
              "  // Wait for the user to pick the files.\n",
              "  const files = yield {\n",
              "    promise: Promise.race([pickedPromise, cancelPromise]),\n",
              "    response: {\n",
              "      action: 'starting',\n",
              "    }\n",
              "  };\n",
              "\n",
              "  cancel.remove();\n",
              "\n",
              "  // Disable the input element since further picks are not allowed.\n",
              "  inputElement.disabled = true;\n",
              "\n",
              "  if (!files) {\n",
              "    return {\n",
              "      response: {\n",
              "        action: 'complete',\n",
              "      }\n",
              "    };\n",
              "  }\n",
              "\n",
              "  for (const file of files) {\n",
              "    const li = document.createElement('li');\n",
              "    li.append(span(file.name, {fontWeight: 'bold'}));\n",
              "    li.append(span(\n",
              "        `(${file.type || 'n/a'}) - ${file.size} bytes, ` +\n",
              "        `last modified: ${\n",
              "            file.lastModifiedDate ? file.lastModifiedDate.toLocaleDateString() :\n",
              "                                    'n/a'} - `));\n",
              "    const percent = span('0% done');\n",
              "    li.appendChild(percent);\n",
              "\n",
              "    outputElement.appendChild(li);\n",
              "\n",
              "    const fileDataPromise = new Promise((resolve) => {\n",
              "      const reader = new FileReader();\n",
              "      reader.onload = (e) => {\n",
              "        resolve(e.target.result);\n",
              "      };\n",
              "      reader.readAsArrayBuffer(file);\n",
              "    });\n",
              "    // Wait for the data to be ready.\n",
              "    let fileData = yield {\n",
              "      promise: fileDataPromise,\n",
              "      response: {\n",
              "        action: 'continue',\n",
              "      }\n",
              "    };\n",
              "\n",
              "    // Use a chunked sending to avoid message size limits. See b/62115660.\n",
              "    let position = 0;\n",
              "    do {\n",
              "      const length = Math.min(fileData.byteLength - position, MAX_PAYLOAD_SIZE);\n",
              "      const chunk = new Uint8Array(fileData, position, length);\n",
              "      position += length;\n",
              "\n",
              "      const base64 = btoa(String.fromCharCode.apply(null, chunk));\n",
              "      yield {\n",
              "        response: {\n",
              "          action: 'append',\n",
              "          file: file.name,\n",
              "          data: base64,\n",
              "        },\n",
              "      };\n",
              "\n",
              "      let percentDone = fileData.byteLength === 0 ?\n",
              "          100 :\n",
              "          Math.round((position / fileData.byteLength) * 100);\n",
              "      percent.textContent = `${percentDone}% done`;\n",
              "\n",
              "    } while (position < fileData.byteLength);\n",
              "  }\n",
              "\n",
              "  // All done.\n",
              "  yield {\n",
              "    response: {\n",
              "      action: 'complete',\n",
              "    }\n",
              "  };\n",
              "}\n",
              "\n",
              "scope.google = scope.google || {};\n",
              "scope.google.colab = scope.google.colab || {};\n",
              "scope.google.colab._files = {\n",
              "  _uploadFiles,\n",
              "  _uploadFilesContinue,\n",
              "};\n",
              "})(self);\n",
              "</script> "
            ]
          },
          "metadata": {}
        },
        {
          "output_type": "stream",
          "name": "stdout",
          "text": [
            "Saving archive (1).zip to archive (1).zip\n"
          ]
        }
      ]
    },
    {
      "cell_type": "code",
      "source": [
        "! mkdir ~/.kaggle\n",
        "! cp kaggle.json ~/.kaggle/\n",
        "! chmod 600 ~/.kaggle/kaggle.json\n",
        "! kaggle datasets list\n",
        "!kaggle datasets download nikbearbrown/tmnist-alphabet-94-characters"
      ],
      "metadata": {
        "colab": {
          "base_uri": "https://localhost:8080/"
        },
        "id": "86HjKXfv0xTk",
        "outputId": "9a9c0e68-9a9a-44a8-ce54-5a45fe233296"
      },
      "execution_count": 1,
      "outputs": [
        {
          "output_type": "stream",
          "name": "stdout",
          "text": [
            "cp: cannot stat 'kaggle.json': No such file or directory\n",
            "chmod: cannot access '/root/.kaggle/kaggle.json': No such file or directory\n",
            "Traceback (most recent call last):\n",
            "  File \"/usr/local/bin/kaggle\", line 5, in <module>\n",
            "    from kaggle.cli import main\n",
            "  File \"/usr/local/lib/python3.10/dist-packages/kaggle/__init__.py\", line 7, in <module>\n",
            "    api.authenticate()\n",
            "  File \"/usr/local/lib/python3.10/dist-packages/kaggle/api/kaggle_api_extended.py\", line 407, in authenticate\n",
            "    raise IOError('Could not find {}. Make sure it\\'s located in'\n",
            "OSError: Could not find kaggle.json. Make sure it's located in /root/.kaggle. Or use the environment method. See setup instructions at https://github.com/Kaggle/kaggle-api/\n",
            "Dataset URL: https://www.kaggle.com/datasets/nikbearbrown/tmnist-alphabet-94-characters\n",
            "License(s): Attribution 3.0 Unported (CC BY 3.0)\n",
            "Downloading tmnist-alphabet-94-characters.zip to /content\n",
            " 90% 76.0M/84.7M [00:00<00:00, 94.3MB/s]\n",
            "100% 84.7M/84.7M [00:01<00:00, 82.8MB/s]\n"
          ]
        }
      ]
    },
    {
      "cell_type": "code",
      "source": [
        "!unzip /content/tmnist-alphabet-94-characters.zip"
      ],
      "metadata": {
        "colab": {
          "base_uri": "https://localhost:8080/"
        },
        "id": "FOp-FgR4HLZ1",
        "outputId": "6abf8fd0-4f5e-47fd-b735-dd78d95855f6"
      },
      "execution_count": 2,
      "outputs": [
        {
          "output_type": "stream",
          "name": "stdout",
          "text": [
            "Archive:  /content/tmnist-alphabet-94-characters.zip\n",
            "  inflating: 94_character_TMNIST.csv  \n"
          ]
        }
      ]
    },
    {
      "cell_type": "markdown",
      "source": [
        "## **Importing Required Libraries**\n",
        "\n",
        "- The dataset file is unzipped and loaded into the environment for processing.\n",
        "- The notebook imports necessary libraries such as pandas, numpy, matplotlib, and tensorflow.keras.\n"
      ],
      "metadata": {
        "id": "Ow5DE4ZDXGve"
      }
    },
    {
      "cell_type": "code",
      "source": [
        "import pandas as pd\n",
        "import numpy as np\n",
        "import matplotlib.pyplot as plt\n",
        "from sklearn.model_selection import train_test_split\n",
        "from sklearn.preprocessing import OneHotEncoder\n",
        "from tensorflow.keras.models import Sequential\n",
        "from tensorflow.keras.layers import *\n",
        "from tensorflow.keras.optimizers import Adam\n",
        "from tensorflow.keras.applications import VGG16\n",
        "import warnings\n",
        "warnings.filterwarnings(\"ignore\")"
      ],
      "metadata": {
        "id": "n9ZSinaxzvaR"
      },
      "execution_count": 3,
      "outputs": []
    },
    {
      "cell_type": "markdown",
      "source": [
        "## **Reading the Dataset**\n",
        "- The TMNIST dataset is read from a CSV file using pandas.\n",
        "- A preview of the dataset is displayed to understand its structure."
      ],
      "metadata": {
        "id": "zdTKl5arXTPd"
      }
    },
    {
      "cell_type": "code",
      "source": [
        "#reading the dataset\n",
        "df=pd.read_csv('/content/94_character_TMNIST.csv')\n",
        "df.head()"
      ],
      "metadata": {
        "colab": {
          "base_uri": "https://localhost:8080/",
          "height": 236
        },
        "id": "a53U_KNnHtLS",
        "outputId": "03ac555c-0045-4249-b9e7-4149b2f49c0a"
      },
      "execution_count": 5,
      "outputs": [
        {
          "output_type": "execute_result",
          "data": {
            "text/plain": [
              "                  names labels    1    2    3    4    5    6    7    8  ...  \\\n",
              "0         Salsa-Regular      6  0.0  0.0  0.0  0.0  0.0  0.0  0.0  0.0  ...   \n",
              "1  MouseMemoirs-Regular      D  0.0  0.0  0.0  0.0  0.0  0.0  0.0  0.0  ...   \n",
              "2     Creepster-Regular      f  0.0  0.0  0.0  0.0  0.0  0.0  0.0  0.0  ...   \n",
              "3     SeoulNamsan-Light      /  0.0  0.0  0.0  0.0  0.0  0.0  0.0  0.0  ...   \n",
              "4  HachiMaruPop-Regular      F  0.0  0.0  0.0  0.0  0.0  0.0  0.0  0.0  ...   \n",
              "\n",
              "   775  776  777  778  779  780  781  782  783  784  \n",
              "0  0.0  0.0  0.0  0.0  0.0  0.0  0.0  0.0  0.0  0.0  \n",
              "1  0.0  0.0  0.0  0.0  0.0  0.0  0.0  0.0  0.0  0.0  \n",
              "2  0.0  0.0  0.0  0.0  0.0  0.0  0.0  0.0  0.0  0.0  \n",
              "3  0.0  0.0  0.0  0.0  0.0  0.0  0.0  0.0  0.0  0.0  \n",
              "4  0.0  0.0  0.0  0.0  0.0  0.0  0.0  0.0  0.0  0.0  \n",
              "\n",
              "[5 rows x 786 columns]"
            ],
            "text/html": [
              "\n",
              "  <div id=\"df-963c8871-1ee6-40cb-a37c-46946ed22df3\" class=\"colab-df-container\">\n",
              "    <div>\n",
              "<style scoped>\n",
              "    .dataframe tbody tr th:only-of-type {\n",
              "        vertical-align: middle;\n",
              "    }\n",
              "\n",
              "    .dataframe tbody tr th {\n",
              "        vertical-align: top;\n",
              "    }\n",
              "\n",
              "    .dataframe thead th {\n",
              "        text-align: right;\n",
              "    }\n",
              "</style>\n",
              "<table border=\"1\" class=\"dataframe\">\n",
              "  <thead>\n",
              "    <tr style=\"text-align: right;\">\n",
              "      <th></th>\n",
              "      <th>names</th>\n",
              "      <th>labels</th>\n",
              "      <th>1</th>\n",
              "      <th>2</th>\n",
              "      <th>3</th>\n",
              "      <th>4</th>\n",
              "      <th>5</th>\n",
              "      <th>6</th>\n",
              "      <th>7</th>\n",
              "      <th>8</th>\n",
              "      <th>...</th>\n",
              "      <th>775</th>\n",
              "      <th>776</th>\n",
              "      <th>777</th>\n",
              "      <th>778</th>\n",
              "      <th>779</th>\n",
              "      <th>780</th>\n",
              "      <th>781</th>\n",
              "      <th>782</th>\n",
              "      <th>783</th>\n",
              "      <th>784</th>\n",
              "    </tr>\n",
              "  </thead>\n",
              "  <tbody>\n",
              "    <tr>\n",
              "      <th>0</th>\n",
              "      <td>Salsa-Regular</td>\n",
              "      <td>6</td>\n",
              "      <td>0.0</td>\n",
              "      <td>0.0</td>\n",
              "      <td>0.0</td>\n",
              "      <td>0.0</td>\n",
              "      <td>0.0</td>\n",
              "      <td>0.0</td>\n",
              "      <td>0.0</td>\n",
              "      <td>0.0</td>\n",
              "      <td>...</td>\n",
              "      <td>0.0</td>\n",
              "      <td>0.0</td>\n",
              "      <td>0.0</td>\n",
              "      <td>0.0</td>\n",
              "      <td>0.0</td>\n",
              "      <td>0.0</td>\n",
              "      <td>0.0</td>\n",
              "      <td>0.0</td>\n",
              "      <td>0.0</td>\n",
              "      <td>0.0</td>\n",
              "    </tr>\n",
              "    <tr>\n",
              "      <th>1</th>\n",
              "      <td>MouseMemoirs-Regular</td>\n",
              "      <td>D</td>\n",
              "      <td>0.0</td>\n",
              "      <td>0.0</td>\n",
              "      <td>0.0</td>\n",
              "      <td>0.0</td>\n",
              "      <td>0.0</td>\n",
              "      <td>0.0</td>\n",
              "      <td>0.0</td>\n",
              "      <td>0.0</td>\n",
              "      <td>...</td>\n",
              "      <td>0.0</td>\n",
              "      <td>0.0</td>\n",
              "      <td>0.0</td>\n",
              "      <td>0.0</td>\n",
              "      <td>0.0</td>\n",
              "      <td>0.0</td>\n",
              "      <td>0.0</td>\n",
              "      <td>0.0</td>\n",
              "      <td>0.0</td>\n",
              "      <td>0.0</td>\n",
              "    </tr>\n",
              "    <tr>\n",
              "      <th>2</th>\n",
              "      <td>Creepster-Regular</td>\n",
              "      <td>f</td>\n",
              "      <td>0.0</td>\n",
              "      <td>0.0</td>\n",
              "      <td>0.0</td>\n",
              "      <td>0.0</td>\n",
              "      <td>0.0</td>\n",
              "      <td>0.0</td>\n",
              "      <td>0.0</td>\n",
              "      <td>0.0</td>\n",
              "      <td>...</td>\n",
              "      <td>0.0</td>\n",
              "      <td>0.0</td>\n",
              "      <td>0.0</td>\n",
              "      <td>0.0</td>\n",
              "      <td>0.0</td>\n",
              "      <td>0.0</td>\n",
              "      <td>0.0</td>\n",
              "      <td>0.0</td>\n",
              "      <td>0.0</td>\n",
              "      <td>0.0</td>\n",
              "    </tr>\n",
              "    <tr>\n",
              "      <th>3</th>\n",
              "      <td>SeoulNamsan-Light</td>\n",
              "      <td>/</td>\n",
              "      <td>0.0</td>\n",
              "      <td>0.0</td>\n",
              "      <td>0.0</td>\n",
              "      <td>0.0</td>\n",
              "      <td>0.0</td>\n",
              "      <td>0.0</td>\n",
              "      <td>0.0</td>\n",
              "      <td>0.0</td>\n",
              "      <td>...</td>\n",
              "      <td>0.0</td>\n",
              "      <td>0.0</td>\n",
              "      <td>0.0</td>\n",
              "      <td>0.0</td>\n",
              "      <td>0.0</td>\n",
              "      <td>0.0</td>\n",
              "      <td>0.0</td>\n",
              "      <td>0.0</td>\n",
              "      <td>0.0</td>\n",
              "      <td>0.0</td>\n",
              "    </tr>\n",
              "    <tr>\n",
              "      <th>4</th>\n",
              "      <td>HachiMaruPop-Regular</td>\n",
              "      <td>F</td>\n",
              "      <td>0.0</td>\n",
              "      <td>0.0</td>\n",
              "      <td>0.0</td>\n",
              "      <td>0.0</td>\n",
              "      <td>0.0</td>\n",
              "      <td>0.0</td>\n",
              "      <td>0.0</td>\n",
              "      <td>0.0</td>\n",
              "      <td>...</td>\n",
              "      <td>0.0</td>\n",
              "      <td>0.0</td>\n",
              "      <td>0.0</td>\n",
              "      <td>0.0</td>\n",
              "      <td>0.0</td>\n",
              "      <td>0.0</td>\n",
              "      <td>0.0</td>\n",
              "      <td>0.0</td>\n",
              "      <td>0.0</td>\n",
              "      <td>0.0</td>\n",
              "    </tr>\n",
              "  </tbody>\n",
              "</table>\n",
              "<p>5 rows × 786 columns</p>\n",
              "</div>\n",
              "    <div class=\"colab-df-buttons\">\n",
              "\n",
              "  <div class=\"colab-df-container\">\n",
              "    <button class=\"colab-df-convert\" onclick=\"convertToInteractive('df-963c8871-1ee6-40cb-a37c-46946ed22df3')\"\n",
              "            title=\"Convert this dataframe to an interactive table.\"\n",
              "            style=\"display:none;\">\n",
              "\n",
              "  <svg xmlns=\"http://www.w3.org/2000/svg\" height=\"24px\" viewBox=\"0 -960 960 960\">\n",
              "    <path d=\"M120-120v-720h720v720H120Zm60-500h600v-160H180v160Zm220 220h160v-160H400v160Zm0 220h160v-160H400v160ZM180-400h160v-160H180v160Zm440 0h160v-160H620v160ZM180-180h160v-160H180v160Zm440 0h160v-160H620v160Z\"/>\n",
              "  </svg>\n",
              "    </button>\n",
              "\n",
              "  <style>\n",
              "    .colab-df-container {\n",
              "      display:flex;\n",
              "      gap: 12px;\n",
              "    }\n",
              "\n",
              "    .colab-df-convert {\n",
              "      background-color: #E8F0FE;\n",
              "      border: none;\n",
              "      border-radius: 50%;\n",
              "      cursor: pointer;\n",
              "      display: none;\n",
              "      fill: #1967D2;\n",
              "      height: 32px;\n",
              "      padding: 0 0 0 0;\n",
              "      width: 32px;\n",
              "    }\n",
              "\n",
              "    .colab-df-convert:hover {\n",
              "      background-color: #E2EBFA;\n",
              "      box-shadow: 0px 1px 2px rgba(60, 64, 67, 0.3), 0px 1px 3px 1px rgba(60, 64, 67, 0.15);\n",
              "      fill: #174EA6;\n",
              "    }\n",
              "\n",
              "    .colab-df-buttons div {\n",
              "      margin-bottom: 4px;\n",
              "    }\n",
              "\n",
              "    [theme=dark] .colab-df-convert {\n",
              "      background-color: #3B4455;\n",
              "      fill: #D2E3FC;\n",
              "    }\n",
              "\n",
              "    [theme=dark] .colab-df-convert:hover {\n",
              "      background-color: #434B5C;\n",
              "      box-shadow: 0px 1px 3px 1px rgba(0, 0, 0, 0.15);\n",
              "      filter: drop-shadow(0px 1px 2px rgba(0, 0, 0, 0.3));\n",
              "      fill: #FFFFFF;\n",
              "    }\n",
              "  </style>\n",
              "\n",
              "    <script>\n",
              "      const buttonEl =\n",
              "        document.querySelector('#df-963c8871-1ee6-40cb-a37c-46946ed22df3 button.colab-df-convert');\n",
              "      buttonEl.style.display =\n",
              "        google.colab.kernel.accessAllowed ? 'block' : 'none';\n",
              "\n",
              "      async function convertToInteractive(key) {\n",
              "        const element = document.querySelector('#df-963c8871-1ee6-40cb-a37c-46946ed22df3');\n",
              "        const dataTable =\n",
              "          await google.colab.kernel.invokeFunction('convertToInteractive',\n",
              "                                                    [key], {});\n",
              "        if (!dataTable) return;\n",
              "\n",
              "        const docLinkHtml = 'Like what you see? Visit the ' +\n",
              "          '<a target=\"_blank\" href=https://colab.research.google.com/notebooks/data_table.ipynb>data table notebook</a>'\n",
              "          + ' to learn more about interactive tables.';\n",
              "        element.innerHTML = '';\n",
              "        dataTable['output_type'] = 'display_data';\n",
              "        await google.colab.output.renderOutput(dataTable, element);\n",
              "        const docLink = document.createElement('div');\n",
              "        docLink.innerHTML = docLinkHtml;\n",
              "        element.appendChild(docLink);\n",
              "      }\n",
              "    </script>\n",
              "  </div>\n",
              "\n",
              "\n",
              "<div id=\"df-88ae6825-12ee-4628-9088-37fb501c74a4\">\n",
              "  <button class=\"colab-df-quickchart\" onclick=\"quickchart('df-88ae6825-12ee-4628-9088-37fb501c74a4')\"\n",
              "            title=\"Suggest charts\"\n",
              "            style=\"display:none;\">\n",
              "\n",
              "<svg xmlns=\"http://www.w3.org/2000/svg\" height=\"24px\"viewBox=\"0 0 24 24\"\n",
              "     width=\"24px\">\n",
              "    <g>\n",
              "        <path d=\"M19 3H5c-1.1 0-2 .9-2 2v14c0 1.1.9 2 2 2h14c1.1 0 2-.9 2-2V5c0-1.1-.9-2-2-2zM9 17H7v-7h2v7zm4 0h-2V7h2v10zm4 0h-2v-4h2v4z\"/>\n",
              "    </g>\n",
              "</svg>\n",
              "  </button>\n",
              "\n",
              "<style>\n",
              "  .colab-df-quickchart {\n",
              "      --bg-color: #E8F0FE;\n",
              "      --fill-color: #1967D2;\n",
              "      --hover-bg-color: #E2EBFA;\n",
              "      --hover-fill-color: #174EA6;\n",
              "      --disabled-fill-color: #AAA;\n",
              "      --disabled-bg-color: #DDD;\n",
              "  }\n",
              "\n",
              "  [theme=dark] .colab-df-quickchart {\n",
              "      --bg-color: #3B4455;\n",
              "      --fill-color: #D2E3FC;\n",
              "      --hover-bg-color: #434B5C;\n",
              "      --hover-fill-color: #FFFFFF;\n",
              "      --disabled-bg-color: #3B4455;\n",
              "      --disabled-fill-color: #666;\n",
              "  }\n",
              "\n",
              "  .colab-df-quickchart {\n",
              "    background-color: var(--bg-color);\n",
              "    border: none;\n",
              "    border-radius: 50%;\n",
              "    cursor: pointer;\n",
              "    display: none;\n",
              "    fill: var(--fill-color);\n",
              "    height: 32px;\n",
              "    padding: 0;\n",
              "    width: 32px;\n",
              "  }\n",
              "\n",
              "  .colab-df-quickchart:hover {\n",
              "    background-color: var(--hover-bg-color);\n",
              "    box-shadow: 0 1px 2px rgba(60, 64, 67, 0.3), 0 1px 3px 1px rgba(60, 64, 67, 0.15);\n",
              "    fill: var(--button-hover-fill-color);\n",
              "  }\n",
              "\n",
              "  .colab-df-quickchart-complete:disabled,\n",
              "  .colab-df-quickchart-complete:disabled:hover {\n",
              "    background-color: var(--disabled-bg-color);\n",
              "    fill: var(--disabled-fill-color);\n",
              "    box-shadow: none;\n",
              "  }\n",
              "\n",
              "  .colab-df-spinner {\n",
              "    border: 2px solid var(--fill-color);\n",
              "    border-color: transparent;\n",
              "    border-bottom-color: var(--fill-color);\n",
              "    animation:\n",
              "      spin 1s steps(1) infinite;\n",
              "  }\n",
              "\n",
              "  @keyframes spin {\n",
              "    0% {\n",
              "      border-color: transparent;\n",
              "      border-bottom-color: var(--fill-color);\n",
              "      border-left-color: var(--fill-color);\n",
              "    }\n",
              "    20% {\n",
              "      border-color: transparent;\n",
              "      border-left-color: var(--fill-color);\n",
              "      border-top-color: var(--fill-color);\n",
              "    }\n",
              "    30% {\n",
              "      border-color: transparent;\n",
              "      border-left-color: var(--fill-color);\n",
              "      border-top-color: var(--fill-color);\n",
              "      border-right-color: var(--fill-color);\n",
              "    }\n",
              "    40% {\n",
              "      border-color: transparent;\n",
              "      border-right-color: var(--fill-color);\n",
              "      border-top-color: var(--fill-color);\n",
              "    }\n",
              "    60% {\n",
              "      border-color: transparent;\n",
              "      border-right-color: var(--fill-color);\n",
              "    }\n",
              "    80% {\n",
              "      border-color: transparent;\n",
              "      border-right-color: var(--fill-color);\n",
              "      border-bottom-color: var(--fill-color);\n",
              "    }\n",
              "    90% {\n",
              "      border-color: transparent;\n",
              "      border-bottom-color: var(--fill-color);\n",
              "    }\n",
              "  }\n",
              "</style>\n",
              "\n",
              "  <script>\n",
              "    async function quickchart(key) {\n",
              "      const quickchartButtonEl =\n",
              "        document.querySelector('#' + key + ' button');\n",
              "      quickchartButtonEl.disabled = true;  // To prevent multiple clicks.\n",
              "      quickchartButtonEl.classList.add('colab-df-spinner');\n",
              "      try {\n",
              "        const charts = await google.colab.kernel.invokeFunction(\n",
              "            'suggestCharts', [key], {});\n",
              "      } catch (error) {\n",
              "        console.error('Error during call to suggestCharts:', error);\n",
              "      }\n",
              "      quickchartButtonEl.classList.remove('colab-df-spinner');\n",
              "      quickchartButtonEl.classList.add('colab-df-quickchart-complete');\n",
              "    }\n",
              "    (() => {\n",
              "      let quickchartButtonEl =\n",
              "        document.querySelector('#df-88ae6825-12ee-4628-9088-37fb501c74a4 button');\n",
              "      quickchartButtonEl.style.display =\n",
              "        google.colab.kernel.accessAllowed ? 'block' : 'none';\n",
              "    })();\n",
              "  </script>\n",
              "</div>\n",
              "\n",
              "    </div>\n",
              "  </div>\n"
            ],
            "application/vnd.google.colaboratory.intrinsic+json": {
              "type": "dataframe",
              "variable_name": "df"
            }
          },
          "metadata": {},
          "execution_count": 5
        }
      ]
    },
    {
      "cell_type": "markdown",
      "source": [
        "## **Key Statistics from the DataFrame: Rows, Columns, Classes, and Fonts**"
      ],
      "metadata": {
        "id": "UdeOSNz6X6e2"
      }
    },
    {
      "cell_type": "markdown",
      "source": [
        "\n",
        "*   Rows represent individual data points, and columns represent the different attributes or features associated with each data point. It helps us understand the size and structure of the data.\n",
        "*   Unique classes (categories or groups) in the 'labels' represent the different types of objects or categories we are trying to classify or predict. It also displays the unique labels present in the 'labels' column, which gives us an idea of the different categories in the data.\n",
        "*   Font column likely represents the different font styles used in the dataset, which could be important for understanding the diversity of fonts used in the data. It helps us identify how many different types of fonts are present in the data.\n",
        "\n"
      ],
      "metadata": {
        "id": "E8D46kyOerDx"
      }
    },
    {
      "cell_type": "code",
      "source": [
        "num_rows, num_cols = df.shape\n",
        "#Number of rows in dataframe\n",
        "print('The number of rows:', num_rows)\n",
        "#Number of columns in dataframe\n",
        "print('The number of columns:', num_cols)\n",
        "\n",
        "#\n",
        "num_classes = df['labels'].nunique()\n",
        "#Total number of unique labels\n",
        "print('The number of classes:', num_classes)\n",
        "print('The labels are:', df['labels'].unique())\n",
        "\n",
        "#Total number of unique fonts\n",
        "num_fonts = df['names'].nunique()\n",
        "print('The number of different types of fonts:', num_fonts)"
      ],
      "metadata": {
        "colab": {
          "base_uri": "https://localhost:8080/"
        },
        "id": "M3N_0G37InKx",
        "outputId": "5abb5030-bdd0-4e82-abc4-046e77927aee"
      },
      "execution_count": 6,
      "outputs": [
        {
          "output_type": "stream",
          "name": "stdout",
          "text": [
            "The number of rows: 274093\n",
            "The number of columns: 786\n",
            "The number of classes: 94\n",
            "The labels are: ['6' 'D' 'f' '/' 'F' 'x' 'J' '8' 'H' 'k' '@' '1' '=' 'g' ')' '2' 'd' '^'\n",
            " '3' 't' '#' '.' '4' 'o' '\"' 'y' 'A' 'u' 'G' '-' 'm' 'W' '&' 'c' '9' 'N'\n",
            " ']' 'P' 'X' '|' '}' 'h' '7' 'j' '5' '>' '?' 'b' '*' 'w' 'l' '0' '$' 'I'\n",
            " 'Y' '%' ':' 'T' 'K' 'E' '<' 'V' '{' 'M' 'S' 'a' 'i' 'r' \"'\" 'p' ';' '['\n",
            " '+' 'e' 'U' '(' 's' '~' ',' 'C' 'q' '_' 'n' 'B' 'z' 'v' 'O' 'R' '`' 'Z'\n",
            " 'Q' 'L' '!' '\\\\']\n",
            "The number of different types of fonts: 2990\n"
          ]
        }
      ]
    },
    {
      "cell_type": "markdown",
      "source": [
        "## **Visualizing Image Data with Class Labels from DataFrame**"
      ],
      "metadata": {
        "id": "VLqJFfBtYF2S"
      }
    },
    {
      "cell_type": "markdown",
      "source": [
        "\n",
        "\n",
        "*   **Feature columns and class column:** Code defines what data attributes to use as input features (feature columns) and what category to predict (class column).\n",
        "\n",
        "*   **Displaying images:** Code uses matplotlib to show a set of images with their corresponding class labels for visual understanding.\n",
        "\n",
        "*   **Printing shape of feature matrix and target labels:** Code displays the dimensions of the data, including the number of data points and features, and the number of target labels for reference.\n",
        "\n"
      ],
      "metadata": {
        "id": "QFvLasIDfjdo"
      }
    },
    {
      "cell_type": "code",
      "source": [
        "class_column = 'labels'\n",
        "feature_columns = ['names']\n",
        "\n",
        "X = df.drop(feature_columns + [class_column], axis=1)\n",
        "y = df[class_column]  # Define the y variable as the class column\n",
        "\n",
        "fig, axes = plt.subplots(1, 15, figsize=(15, 6))\n",
        "for i, ax in enumerate(axes):\n",
        "    ax.set_title(y.iloc[i])  # Update to use the y variable for class labels\n",
        "    ax.imshow(X.values[i].reshape(28, 28), cmap=plt.get_cmap('gray'))\n",
        "    ax.axis('off')\n",
        "plt.show()\n",
        "\n",
        "print(X.shape)  # Print the shape of X (the feature matrix)\n",
        "print(y.shape)  # Print the shape of y (the target labels)"
      ],
      "metadata": {
        "colab": {
          "base_uri": "https://localhost:8080/",
          "height": 159
        },
        "id": "5z9bcGyzJyyP",
        "outputId": "18303968-05bf-49d2-acb0-23febeaae6a2"
      },
      "execution_count": 7,
      "outputs": [
        {
          "output_type": "display_data",
          "data": {
            "text/plain": [
              "<Figure size 1500x600 with 15 Axes>"
            ],
            "image/png": "[encoded data removed]"
          },
          "metadata": {}
        },
        {
          "output_type": "stream",
          "name": "stdout",
          "text": [
            "(274093, 784)\n",
            "(274093,)\n"
          ]
        }
      ]
    },
    {
      "cell_type": "markdown",
      "source": [
        "## **Splitting Data into Train and Test Sets**\n",
        "\n",
        "\n",
        "###**Purpose of Splitting the Dataset**\n",
        "\n",
        "- **Training Set:** Used to train the model. The model learns the patterns and relationships in the data through this set.\n",
        "- **Test Set:** Used to evaluate the model's performance on unseen data. This helps determine how well the model generalizes to new, unseen inputs.\n"
      ],
      "metadata": {
        "id": "TZZuAGPVYlm1"
      }
    },
    {
      "cell_type": "code",
      "source": [
        "X_train, X_test, Y_train, Y_test = train_test_split( X, y, test_size=0.20, random_state=42)"
      ],
      "metadata": {
        "id": "5n1ZFHkyLbLF"
      },
      "execution_count": 8,
      "outputs": []
    },
    {
      "cell_type": "code",
      "source": [
        "print(X_train)\n",
        "print(X_test)"
      ],
      "metadata": {
        "colab": {
          "base_uri": "https://localhost:8080/"
        },
        "id": "pO7oVMsgMuZn",
        "outputId": "474649df-c5d5-4a82-9153-ee2d0f1c4529"
      },
      "execution_count": 9,
      "outputs": [
        {
          "output_type": "stream",
          "name": "stdout",
          "text": [
            "          1    2    3    4    5    6    7    8    9   10  ...  775  776  777  \\\n",
            "198215  0.0  0.0  0.0  0.0  0.0  0.0  0.0  0.0  0.0  0.0  ...  0.0  0.0  0.0   \n",
            "41087   0.0  0.0  0.0  0.0  0.0  0.0  0.0  0.0  0.0  0.0  ...  0.0  0.0  0.0   \n",
            "165138  0.0  0.0  0.0  0.0  0.0  0.0  0.0  0.0  0.0  0.0  ...  0.0  0.0  0.0   \n",
            "177019  0.0  0.0  0.0  0.0  0.0  0.0  0.0  0.0  0.0  0.0  ...  0.0  0.0  0.0   \n",
            "72101   0.0  0.0  0.0  0.0  0.0  0.0  0.0  0.0  0.0  0.0  ...  0.0  0.0  0.0   \n",
            "...     ...  ...  ...  ...  ...  ...  ...  ...  ...  ...  ...  ...  ...  ...   \n",
            "119879  0.0  0.0  0.0  0.0  0.0  0.0  0.0  0.0  0.0  0.0  ...  0.0  0.0  0.0   \n",
            "259178  0.0  0.0  0.0  0.0  0.0  0.0  0.0  0.0  0.0  0.0  ...  0.0  0.0  0.0   \n",
            "131932  0.0  0.0  0.0  0.0  0.0  0.0  0.0  0.0  0.0  0.0  ...  0.0  0.0  0.0   \n",
            "146867  0.0  0.0  0.0  0.0  0.0  0.0  0.0  0.0  0.0  0.0  ...  0.0  0.0  0.0   \n",
            "121958  0.0  0.0  0.0  0.0  0.0  0.0  0.0  0.0  0.0  0.0  ...  0.0  0.0  0.0   \n",
            "\n",
            "        778  779  780  781  782  783  784  \n",
            "198215  0.0  0.0  0.0  0.0  0.0  0.0  0.0  \n",
            "41087   0.0  0.0  0.0  0.0  0.0  0.0  0.0  \n",
            "165138  0.0  0.0  0.0  0.0  0.0  0.0  0.0  \n",
            "177019  0.0  0.0  0.0  0.0  0.0  0.0  0.0  \n",
            "72101   0.0  0.0  0.0  0.0  0.0  0.0  0.0  \n",
            "...     ...  ...  ...  ...  ...  ...  ...  \n",
            "119879  0.0  0.0  0.0  0.0  0.0  0.0  0.0  \n",
            "259178  0.0  0.0  0.0  0.0  0.0  0.0  0.0  \n",
            "131932  0.0  0.0  0.0  0.0  0.0  0.0  0.0  \n",
            "146867  0.0  0.0  0.0  0.0  0.0  0.0  0.0  \n",
            "121958  0.0  0.0  0.0  0.0  0.0  0.0  0.0  \n",
            "\n",
            "[219274 rows x 784 columns]\n",
            "          1    2    3    4    5    6    7    8    9   10  ...  775  776  777  \\\n",
            "86512   0.0  0.0  0.0  0.0  0.0  0.0  0.0  0.0  0.0  0.0  ...  0.0  0.0  0.0   \n",
            "251935  0.0  0.0  0.0  0.0  0.0  0.0  0.0  0.0  0.0  0.0  ...  0.0  0.0  0.0   \n",
            "136848  0.0  0.0  0.0  0.0  0.0  0.0  0.0  0.0  0.0  0.0  ...  0.0  0.0  0.0   \n",
            "188895  0.0  0.0  0.0  0.0  0.0  0.0  0.0  0.0  0.0  0.0  ...  0.0  0.0  0.0   \n",
            "173187  0.0  0.0  0.0  0.0  0.0  0.0  0.0  0.0  0.0  0.0  ...  0.0  0.0  0.0   \n",
            "...     ...  ...  ...  ...  ...  ...  ...  ...  ...  ...  ...  ...  ...  ...   \n",
            "61462   0.0  0.0  0.0  0.0  0.0  0.0  0.0  0.0  0.0  0.0  ...  0.0  0.0  0.0   \n",
            "160091  0.0  0.0  0.0  0.0  0.0  0.0  0.0  0.0  0.0  0.0  ...  0.0  0.0  0.0   \n",
            "5329    0.0  0.0  0.0  0.0  0.0  0.0  0.0  0.0  0.0  0.0  ...  0.0  0.0  0.0   \n",
            "122041  0.0  0.0  0.0  0.0  0.0  0.0  0.0  0.0  0.0  0.0  ...  0.0  0.0  0.0   \n",
            "246919  0.0  0.0  0.0  0.0  0.0  0.0  0.0  0.0  0.0  0.0  ...  0.0  0.0  0.0   \n",
            "\n",
            "        778  779  780  781  782  783  784  \n",
            "86512   0.0  0.0  0.0  0.0  0.0  0.0  0.0  \n",
            "251935  0.0  0.0  0.0  0.0  0.0  0.0  0.0  \n",
            "136848  0.0  0.0  0.0  0.0  0.0  0.0  0.0  \n",
            "188895  0.0  0.0  0.0  0.0  0.0  0.0  0.0  \n",
            "173187  0.0  0.0  0.0  0.0  0.0  0.0  0.0  \n",
            "...     ...  ...  ...  ...  ...  ...  ...  \n",
            "61462   0.0  0.0  0.0  0.0  0.0  0.0  0.0  \n",
            "160091  0.0  0.0  0.0  0.0  0.0  0.0  0.0  \n",
            "5329    0.0  0.0  0.0  0.0  0.0  0.0  0.0  \n",
            "122041  0.0  0.0  0.0  0.0  0.0  0.0  0.0  \n",
            "246919  0.0  0.0  0.0  0.0  0.0  0.0  0.0  \n",
            "\n",
            "[54819 rows x 784 columns]\n"
          ]
        }
      ]
    },
    {
      "cell_type": "code",
      "source": [
        "print(Y_train)\n",
        "print(Y_test)\n"
      ],
      "metadata": {
        "colab": {
          "base_uri": "https://localhost:8080/"
        },
        "id": "RH6L7CFWNBzB",
        "outputId": "c6a8ad9e-e089-42dc-e2ab-7d3a2a9feba2"
      },
      "execution_count": 10,
      "outputs": [
        {
          "output_type": "stream",
          "name": "stdout",
          "text": [
            "198215    :\n",
            "41087     ,\n",
            "165138    x\n",
            "177019    q\n",
            "72101     c\n",
            "         ..\n",
            "119879    _\n",
            "259178    7\n",
            "131932    f\n",
            "146867    y\n",
            "121958    p\n",
            "Name: labels, Length: 219274, dtype: object\n",
            "86512     &\n",
            "251935    '\n",
            "136848    i\n",
            "188895    v\n",
            "173187    /\n",
            "         ..\n",
            "61462     B\n",
            "160091    i\n",
            "5329      =\n",
            "122041    @\n",
            "246919    h\n",
            "Name: labels, Length: 54819, dtype: object\n"
          ]
        }
      ]
    },
    {
      "cell_type": "markdown",
      "source": [
        "## **Normalizing Pixel Values**"
      ],
      "metadata": {
        "id": "PUpMEwHeY05M"
      }
    },
    {
      "cell_type": "markdown",
      "source": [
        "We scale down the pixel values of our images to a range between 0 and 1 to improve the performance of our neural network models."
      ],
      "metadata": {
        "id": "1uWTKeBYgYAf"
      }
    },
    {
      "cell_type": "code",
      "source": [
        "#To improve the performance of our neural network models, we normalize the pixel values,\n",
        "X_train= (X_train.astype('float32'))/255.0\n",
        "X_test = (X_test.astype('float32'))/255.0"
      ],
      "metadata": {
        "id": "WEb021GDNJ7m"
      },
      "execution_count": 11,
      "outputs": []
    },
    {
      "cell_type": "markdown",
      "source": [
        "## **Converting Class Labels to Binary Representation using One Hot Encoding**\n",
        "\n",
        "\n",
        "\n",
        "\n"
      ],
      "metadata": {
        "id": "ZOl8IMSDY78h"
      }
    },
    {
      "cell_type": "markdown",
      "source": [
        "\n",
        "\n",
        "*   Encoding the categorical labels of our data using a one-hot encoding technique to represent them as binary values, which can be easily understood by the neural network models.\n",
        "*   Convert the labels into a numerical format that the neural network can process, improving its ability to learn and make accurate predictions.\n",
        "\n"
      ],
      "metadata": {
        "id": "7J-rUsqSgrpy"
      }
    },
    {
      "cell_type": "code",
      "source": [
        "from sklearn.preprocessing import OneHotEncoder\n",
        "\n",
        "# Feature digitization using one hot encoder\n",
        "enc = OneHotEncoder(sparse_output=False, handle_unknown='ignore')\n",
        "Y_train = enc.fit_transform(Y_train.values.reshape(-1, 1))\n",
        "Y_test = enc.transform(Y_test.values.reshape(-1, 1))\n"
      ],
      "metadata": {
        "id": "Fp1sPy4lNZOQ"
      },
      "execution_count": 13,
      "outputs": []
    },
    {
      "cell_type": "markdown",
      "source": [
        "## **Reshaping Grayscale Images**"
      ],
      "metadata": {
        "id": "L7rOk30nZN4N"
      }
    },
    {
      "cell_type": "markdown",
      "source": [
        "Reshaping the grayscale images from their original shape into a standardized size of 28x28 pixels, which is a common format for image recognition tasks."
      ],
      "metadata": {
        "id": "YRGU3nzfg9p4"
      }
    },
    {
      "cell_type": "code",
      "source": [
        "# Reshape grayscale images to 28x28\n",
        "image_height = 28\n",
        "image_width = 28\n",
        "\n",
        "# Convert DataFrame to NumPy array and reshape\n",
        "X_train = X_train.values.reshape(X_train.shape[0], image_height, image_width)\n",
        "X_test = X_test.values.reshape(X_test.shape[0], image_height, image_width)\n",
        "\n"
      ],
      "metadata": {
        "id": "76qo_CduORdP"
      },
      "execution_count": 15,
      "outputs": []
    },
    {
      "cell_type": "markdown",
      "source": [
        "## **Building a Neural Network**"
      ],
      "metadata": {
        "id": "J9aSTikkZUYE"
      }
    },
    {
      "cell_type": "markdown",
      "source": [
        "\n",
        "\n",
        "*  Creating a basic neural network model using the Keras Sequential API, which allows us to stack layers on top of each other to create a feedforward neural network.\n",
        "*   The model consists of multiple dense (fully connected) layers with different numbers of hidden units and activation functions (ReLU) to learn complex patterns from the input data.\n",
        "* The last layer of the model uses the softmax activation function to output predicted probabilities for each class in the dataset, and the Adam optimizer is used to optimize the model's parameters during training. The model's architecture and summary are displayed for reference.\n",
        "\n"
      ],
      "metadata": {
        "id": "7YCo2Gf8h9Sw"
      }
    },
    {
      "cell_type": "code",
      "source": [
        "#we choose a basic Neural Network to finish our mission\n",
        "model = Sequential()\n",
        "model.add(Flatten(input_shape=(28,28)))\n",
        "model.add(Dense(512,activation='relu'))\n",
        "model.add(Dense(128,activation='relu'))\n",
        "model.add(Dense(32, activation='relu'))\n",
        "model.add(Dense(num_classes, activation='softmax'))\n",
        "opt = Adam()\n",
        "model.compile(optimizer=opt, loss='categorical_crossentropy', metrics=['accuracy'])\n",
        "model.summary()"
      ],
      "metadata": {
        "colab": {
          "base_uri": "https://localhost:8080/",
          "height": 289
        },
        "id": "bth6LFXQPgKp",
        "outputId": "9d37e371-3f2d-4f3d-ac42-d9e27edf3d49"
      },
      "execution_count": 16,
      "outputs": [
        {
          "output_type": "display_data",
          "data": {
            "text/plain": [
              "\u001b[1mModel: \"sequential\"\u001b[0m\n"
            ],
            "text/html": [
              "<pre style=\"white-space:pre;overflow-x:auto;line-height:normal;font-family:Menlo,'DejaVu Sans Mono',consolas,'Courier New',monospace\"><span style=\"font-weight: bold\">Model: \"sequential\"</span>\n",
              "</pre>\n"
            ]
          },
          "metadata": {}
        },
        {
          "output_type": "display_data",
          "data": {
            "text/plain": [
              "┏━━━━━━━━━━━━━━━━━━━━━━━━━━━━━━━━━━━━━━┳━━━━━━━━━━━━━━━━━━━━━━━━━━━━━┳━━━━━━━━━━━━━━━━━┓\n",
              "┃\u001b[1m \u001b[0m\u001b[1mLayer (type)                        \u001b[0m\u001b[1m \u001b[0m┃\u001b[1m \u001b[0m\u001b[1mOutput Shape               \u001b[0m\u001b[1m \u001b[0m┃\u001b[1m \u001b[0m\u001b[1m        Param #\u001b[0m\u001b[1m \u001b[0m┃\n",
              "┡━━━━━━━━━━━━━━━━━━━━━━━━━━━━━━━━━━━━━━╇━━━━━━━━━━━━━━━━━━━━━━━━━━━━━╇━━━━━━━━━━━━━━━━━┩\n",
              "│ flatten (\u001b[38;5;33mFlatten\u001b[0m)                    │ (\u001b[38;5;45mNone\u001b[0m, \u001b[38;5;34m784\u001b[0m)                 │               \u001b[38;5;34m0\u001b[0m │\n",
              "├──────────────────────────────────────┼─────────────────────────────┼─────────────────┤\n",
              "│ dense (\u001b[38;5;33mDense\u001b[0m)                        │ (\u001b[38;5;45mNone\u001b[0m, \u001b[38;5;34m512\u001b[0m)                 │         \u001b[38;5;34m401,920\u001b[0m │\n",
              "├──────────────────────────────────────┼─────────────────────────────┼─────────────────┤\n",
              "│ dense_1 (\u001b[38;5;33mDense\u001b[0m)                      │ (\u001b[38;5;45mNone\u001b[0m, \u001b[38;5;34m128\u001b[0m)                 │          \u001b[38;5;34m65,664\u001b[0m │\n",
              "├──────────────────────────────────────┼─────────────────────────────┼─────────────────┤\n",
              "│ dense_2 (\u001b[38;5;33mDense\u001b[0m)                      │ (\u001b[38;5;45mNone\u001b[0m, \u001b[38;5;34m32\u001b[0m)                  │           \u001b[38;5;34m4,128\u001b[0m │\n",
              "├──────────────────────────────────────┼─────────────────────────────┼─────────────────┤\n",
              "│ dense_3 (\u001b[38;5;33mDense\u001b[0m)                      │ (\u001b[38;5;45mNone\u001b[0m, \u001b[38;5;34m94\u001b[0m)                  │           \u001b[38;5;34m3,102\u001b[0m │\n",
              "└──────────────────────────────────────┴─────────────────────────────┴─────────────────┘\n"
            ],
            "text/html": [
              "<pre style=\"white-space:pre;overflow-x:auto;line-height:normal;font-family:Menlo,'DejaVu Sans Mono',consolas,'Courier New',monospace\">┏━━━━━━━━━━━━━━━━━━━━━━━━━━━━━━━━━━━━━━┳━━━━━━━━━━━━━━━━━━━━━━━━━━━━━┳━━━━━━━━━━━━━━━━━┓\n",
              "┃<span style=\"font-weight: bold\"> Layer (type)                         </span>┃<span style=\"font-weight: bold\"> Output Shape                </span>┃<span style=\"font-weight: bold\">         Param # </span>┃\n",
              "┡━━━━━━━━━━━━━━━━━━━━━━━━━━━━━━━━━━━━━━╇━━━━━━━━━━━━━━━━━━━━━━━━━━━━━╇━━━━━━━━━━━━━━━━━┩\n",
              "│ flatten (<span style=\"color: #0087ff; text-decoration-color: #0087ff\">Flatten</span>)                    │ (<span style=\"color: #00d7ff; text-decoration-color: #00d7ff\">None</span>, <span style=\"color: #00af00; text-decoration-color: #00af00\">784</span>)                 │               <span style=\"color: #00af00; text-decoration-color: #00af00\">0</span> │\n",
              "├──────────────────────────────────────┼─────────────────────────────┼─────────────────┤\n",
              "│ dense (<span style=\"color: #0087ff; text-decoration-color: #0087ff\">Dense</span>)                        │ (<span style=\"color: #00d7ff; text-decoration-color: #00d7ff\">None</span>, <span style=\"color: #00af00; text-decoration-color: #00af00\">512</span>)                 │         <span style=\"color: #00af00; text-decoration-color: #00af00\">401,920</span> │\n",
              "├──────────────────────────────────────┼─────────────────────────────┼─────────────────┤\n",
              "│ dense_1 (<span style=\"color: #0087ff; text-decoration-color: #0087ff\">Dense</span>)                      │ (<span style=\"color: #00d7ff; text-decoration-color: #00d7ff\">None</span>, <span style=\"color: #00af00; text-decoration-color: #00af00\">128</span>)                 │          <span style=\"color: #00af00; text-decoration-color: #00af00\">65,664</span> │\n",
              "├──────────────────────────────────────┼─────────────────────────────┼─────────────────┤\n",
              "│ dense_2 (<span style=\"color: #0087ff; text-decoration-color: #0087ff\">Dense</span>)                      │ (<span style=\"color: #00d7ff; text-decoration-color: #00d7ff\">None</span>, <span style=\"color: #00af00; text-decoration-color: #00af00\">32</span>)                  │           <span style=\"color: #00af00; text-decoration-color: #00af00\">4,128</span> │\n",
              "├──────────────────────────────────────┼─────────────────────────────┼─────────────────┤\n",
              "│ dense_3 (<span style=\"color: #0087ff; text-decoration-color: #0087ff\">Dense</span>)                      │ (<span style=\"color: #00d7ff; text-decoration-color: #00d7ff\">None</span>, <span style=\"color: #00af00; text-decoration-color: #00af00\">94</span>)                  │           <span style=\"color: #00af00; text-decoration-color: #00af00\">3,102</span> │\n",
              "└──────────────────────────────────────┴─────────────────────────────┴─────────────────┘\n",
              "</pre>\n"
            ]
          },
          "metadata": {}
        },
        {
          "output_type": "display_data",
          "data": {
            "text/plain": [
              "\u001b[1m Total params: \u001b[0m\u001b[38;5;34m474,814\u001b[0m (1.81 MB)\n"
            ],
            "text/html": [
              "<pre style=\"white-space:pre;overflow-x:auto;line-height:normal;font-family:Menlo,'DejaVu Sans Mono',consolas,'Courier New',monospace\"><span style=\"font-weight: bold\"> Total params: </span><span style=\"color: #00af00; text-decoration-color: #00af00\">474,814</span> (1.81 MB)\n",
              "</pre>\n"
            ]
          },
          "metadata": {}
        },
        {
          "output_type": "display_data",
          "data": {
            "text/plain": [
              "\u001b[1m Trainable params: \u001b[0m\u001b[38;5;34m474,814\u001b[0m (1.81 MB)\n"
            ],
            "text/html": [
              "<pre style=\"white-space:pre;overflow-x:auto;line-height:normal;font-family:Menlo,'DejaVu Sans Mono',consolas,'Courier New',monospace\"><span style=\"font-weight: bold\"> Trainable params: </span><span style=\"color: #00af00; text-decoration-color: #00af00\">474,814</span> (1.81 MB)\n",
              "</pre>\n"
            ]
          },
          "metadata": {}
        },
        {
          "output_type": "display_data",
          "data": {
            "text/plain": [
              "\u001b[1m Non-trainable params: \u001b[0m\u001b[38;5;34m0\u001b[0m (0.00 B)\n"
            ],
            "text/html": [
              "<pre style=\"white-space:pre;overflow-x:auto;line-height:normal;font-family:Menlo,'DejaVu Sans Mono',consolas,'Courier New',monospace\"><span style=\"font-weight: bold\"> Non-trainable params: </span><span style=\"color: #00af00; text-decoration-color: #00af00\">0</span> (0.00 B)\n",
              "</pre>\n"
            ]
          },
          "metadata": {}
        }
      ]
    },
    {
      "cell_type": "markdown",
      "source": [
        "## **Fitting the model**\n",
        "I train the model using the training dataset (X_train, Y_train) and evaluate its performance using the validation set (X_test, Y_test) after each epoch. The training process is controlled by the following key parameters:\n",
        "\n",
        "*   Epochs: The model is trained for 20 iterations over the entire training data.\n",
        "*   Batch Size: We use a batch size of 1024, meaning the model updates its weights after processing 1024 samples at a time.\n",
        "*   Verbose: Setting verbose=2 provides progress updates with each epoch.\n",
        "*   Validation Data: Helps monitor the model's generalization performance on unseen data.\n"
      ],
      "metadata": {
        "id": "RlmCwZhoZbNT"
      }
    },
    {
      "cell_type": "code",
      "source": [
        "#fitting the model\n",
        "model_history=model.fit(X_train, Y_train, epochs=20, validation_data=(X_test, Y_test), verbose=2,batch_size=1024)"
      ],
      "metadata": {
        "colab": {
          "base_uri": "https://localhost:8080/"
        },
        "id": "8q0cNuvTPkGV",
        "outputId": "c02556c5-d574-437b-dbb7-f73b0c4a3f27"
      },
      "execution_count": 18,
      "outputs": [
        {
          "output_type": "stream",
          "name": "stdout",
          "text": [
            "Epoch 1/20\n",
            "215/215 - 14s - 66ms/step - accuracy: 0.9288 - loss: 0.2152 - val_accuracy: 0.9069 - val_loss: 0.3207\n",
            "Epoch 2/20\n",
            "215/215 - 12s - 54ms/step - accuracy: 0.9321 - loss: 0.2035 - val_accuracy: 0.9057 - val_loss: 0.3223\n",
            "Epoch 3/20\n",
            "215/215 - 23s - 109ms/step - accuracy: 0.9333 - loss: 0.1982 - val_accuracy: 0.9081 - val_loss: 0.3181\n",
            "Epoch 4/20\n",
            "215/215 - 20s - 95ms/step - accuracy: 0.9348 - loss: 0.1926 - val_accuracy: 0.9081 - val_loss: 0.3197\n",
            "Epoch 5/20\n",
            "215/215 - 13s - 59ms/step - accuracy: 0.9368 - loss: 0.1862 - val_accuracy: 0.9069 - val_loss: 0.3266\n",
            "Epoch 6/20\n",
            "215/215 - 23s - 105ms/step - accuracy: 0.9391 - loss: 0.1788 - val_accuracy: 0.9099 - val_loss: 0.3196\n",
            "Epoch 7/20\n",
            "215/215 - 12s - 55ms/step - accuracy: 0.9402 - loss: 0.1742 - val_accuracy: 0.9030 - val_loss: 0.3401\n",
            "Epoch 8/20\n",
            "215/215 - 23s - 107ms/step - accuracy: 0.9427 - loss: 0.1667 - val_accuracy: 0.9096 - val_loss: 0.3251\n",
            "Epoch 9/20\n",
            "215/215 - 25s - 117ms/step - accuracy: 0.9441 - loss: 0.1612 - val_accuracy: 0.9105 - val_loss: 0.3266\n",
            "Epoch 10/20\n",
            "215/215 - 16s - 75ms/step - accuracy: 0.9454 - loss: 0.1565 - val_accuracy: 0.9112 - val_loss: 0.3269\n",
            "Epoch 11/20\n",
            "215/215 - 11s - 53ms/step - accuracy: 0.9471 - loss: 0.1514 - val_accuracy: 0.9097 - val_loss: 0.3385\n",
            "Epoch 12/20\n",
            "215/215 - 24s - 112ms/step - accuracy: 0.9480 - loss: 0.1476 - val_accuracy: 0.9079 - val_loss: 0.3475\n",
            "Epoch 13/20\n",
            "215/215 - 20s - 94ms/step - accuracy: 0.9492 - loss: 0.1445 - val_accuracy: 0.9115 - val_loss: 0.3430\n",
            "Epoch 14/20\n",
            "215/215 - 21s - 96ms/step - accuracy: 0.9510 - loss: 0.1389 - val_accuracy: 0.9059 - val_loss: 0.3611\n",
            "Epoch 15/20\n",
            "215/215 - 15s - 68ms/step - accuracy: 0.9511 - loss: 0.1372 - val_accuracy: 0.9098 - val_loss: 0.3496\n",
            "Epoch 16/20\n",
            "215/215 - 21s - 96ms/step - accuracy: 0.9534 - loss: 0.1298 - val_accuracy: 0.9079 - val_loss: 0.3639\n",
            "Epoch 17/20\n",
            "215/215 - 12s - 55ms/step - accuracy: 0.9546 - loss: 0.1275 - val_accuracy: 0.9139 - val_loss: 0.3516\n",
            "Epoch 18/20\n",
            "215/215 - 13s - 63ms/step - accuracy: 0.9556 - loss: 0.1243 - val_accuracy: 0.9090 - val_loss: 0.3707\n",
            "Epoch 19/20\n",
            "215/215 - 18s - 85ms/step - accuracy: 0.9569 - loss: 0.1198 - val_accuracy: 0.9117 - val_loss: 0.3690\n",
            "Epoch 20/20\n",
            "215/215 - 24s - 111ms/step - accuracy: 0.9572 - loss: 0.1197 - val_accuracy: 0.9133 - val_loss: 0.3621\n"
          ]
        }
      ]
    },
    {
      "cell_type": "markdown",
      "source": [
        "## **Calculating Accuracy & Loss**\n",
        "After training the model, it is important to evaluate its performance on the test set. This helps determine how well the model generalizes to new, unseen data.\n",
        "\n",
        "In this section, we:\n",
        "Predict the labels for the test data using the trained model.\n",
        "Evaluate the model's accuracy and loss using the model.evaluate() function.\n"
      ],
      "metadata": {
        "id": "xj1P5eLFZhYH"
      }
    },
    {
      "cell_type": "code",
      "source": [
        "# Assuming you have already trained your model and obtained predictions\n",
        "y_pred = model.predict(X_test)\n",
        "\n",
        "# Calculate accuracy\n",
        "test_accuracy = model.evaluate(X_test, Y_test)[1]\n",
        "\n",
        "# Calculate loss\n",
        "test_loss = model.evaluate(X_test, Y_test)[0]\n",
        "\n",
        "print('Test loss:', test_loss)\n",
        "print('Test accuracy:', test_accuracy)"
      ],
      "metadata": {
        "colab": {
          "base_uri": "https://localhost:8080/"
        },
        "id": "_dP2uoA8Qxg_",
        "outputId": "4efed00a-ffe7-40b0-9056-5b800ed2e636"
      },
      "execution_count": 23,
      "outputs": [
        {
          "output_type": "stream",
          "name": "stdout",
          "text": [
            "\u001b[1m1714/1714\u001b[0m \u001b[32m━━━━━━━━━━━━━━━━━━━━\u001b[0m\u001b[37m\u001b[0m \u001b[1m8s\u001b[0m 5ms/step\n",
            "\u001b[1m1714/1714\u001b[0m \u001b[32m━━━━━━━━━━━━━━━━━━━━\u001b[0m\u001b[37m\u001b[0m \u001b[1m5s\u001b[0m 3ms/step - accuracy: 0.9129 - loss: 0.3583\n",
            "\u001b[1m1714/1714\u001b[0m \u001b[32m━━━━━━━━━━━━━━━━━━━━\u001b[0m\u001b[37m\u001b[0m \u001b[1m5s\u001b[0m 3ms/step - accuracy: 0.9129 - loss: 0.3583\n",
            "Test loss: 0.36209264397621155\n",
            "Test accuracy: 0.9132599830627441\n"
          ]
        }
      ]
    },
    {
      "cell_type": "markdown",
      "source": [
        "## **Accuracy and Loss vs Epochs Graphs**"
      ],
      "metadata": {
        "id": "921h0T9dZpvi"
      }
    },
    {
      "cell_type": "markdown",
      "source": [
        "Plotting accuracy and loss values of a neural network model during training, using two subplots to show the trends over epochs."
      ],
      "metadata": {
        "id": "6U02P0qUiXMC"
      }
    },
    {
      "cell_type": "code",
      "source": [
        "# Extract accuracy and loss values from model_history\n",
        "accuracy = model_history.history['accuracy']\n",
        "val_accuracy = model_history.history['val_accuracy']\n",
        "loss = model_history.history['loss']\n",
        "val_loss = model_history.history['val_loss']\n",
        "epochs = range(1, len(accuracy) + 1)\n",
        "\n",
        "# Create a figure with two subplots\n",
        "fig, axs = plt.subplots(1, 2, figsize=(14, 6))\n",
        "\n",
        "# Plot accuracy vs epochs\n",
        "axs[0].plot(epochs, accuracy, label='train', color='#851D2D')\n",
        "axs[0].plot(epochs, val_accuracy, label='test', color='#306844')\n",
        "axs[0].set_title('Accuracy vs Epochs')\n",
        "axs[0].set_xlabel('Epochs')\n",
        "axs[0].set_ylabel('Accuracy')\n",
        "axs[0].legend()\n",
        "\n",
        "# Plot loss vs epochs\n",
        "axs[1].plot(epochs, loss, label='train', color='#851D2D')\n",
        "axs[1].plot(epochs, val_loss, label='test', color='#306844')\n",
        "axs[1].set_title('Loss vs Epochs')\n",
        "axs[1].set_xlabel('Epochs')\n",
        "axs[1].set_ylabel('Loss')\n",
        "axs[1].legend()\n",
        "\n",
        "# Display the plots\n",
        "plt.show()"
      ],
      "metadata": {
        "colab": {
          "base_uri": "https://localhost:8080/",
          "height": 564
        },
        "id": "GJWycK9eRthB",
        "outputId": "693d83e2-a798-410d-c169-4c48bb042d67"
      },
      "execution_count": 22,
      "outputs": [
        {
          "output_type": "display_data",
          "data": {
            "text/plain": [
              "<Figure size 1400x600 with 2 Axes>"
            ],
            "image/png": "[encoded data removed]"
          },
          "metadata": {}
        }
      ]
    },
    {
      "cell_type": "markdown",
      "source": [
        "# **Conclusion**\n",
        "In this project, I built and trained a neural network model to classify characters from the TMNIST dataset, which consists of 94 different character classes. Through the process of data preparation, model training, and evaluation, achieved the following key results:\n",
        "*   **Final Test Accuracy:** The model achieved a test accuracy of approximately 91.33%, indicating that it can correctly predict around 91% of the unseen test data.\n",
        "*   **Final Test Loss:** The model's test loss was approximately 0.362, reflecting the degree of error in the model's predictions.\n",
        "\n",
        "\n",
        "\n"
      ],
      "metadata": {
        "id": "Yl359Zr6jP-6"
      }
    },
    {
      "cell_type": "markdown",
      "source": [
        "# **References**\n",
        "1. https://en.wikipedia.org/wiki/Convolutional_neural_network\n",
        "2. https://www.analyticsvidhya.com/blog/2020/02/learn-image-classification-cnn-convolutional-neural-networks-3-datasets/\n",
        "3. https://towardsdatascience.com/using-convolutional-neural-network-for-image-classification-5997bfd0ede4\n",
        "4. https://towardsdatascience.com/optimizers-for-training-neural-network-59450d71caf6\n"
      ],
      "metadata": {
        "id": "Ug8KcT7eZ6kf"
      }
    },
    {
      "cell_type": "markdown",
      "source": [
        "# **LICENSE**\n",
        "\n",
        "MIT License\n",
        "\n",
        "Copyright (c) 2024 Poornachandra Kongara\n",
        "\n",
        "\n",
        "\n",
        "Permission is hereby granted, free of charge, to any person obtaining a copy of this software and associated documentation files (the \"Software\"), to deal in the Software without restriction, including without limitation the rights to use, copy, modify, merge, publish, distribute, sublicense, and/or sell copies of the Software, and to permit persons to whom the Software is furnished to do so, subject to the following conditions:\n",
        "\n",
        "<br>\n",
        "\n",
        "The above copyright notice and this permission notice shall be included in all copies or substantial portions of the Software.\n",
        "\n",
        "<br>\n",
        "\n",
        "\n",
        "\n",
        "THE SOFTWARE IS PROVIDED \"AS IS\", WITHOUT WARRANTY OF ANY KIND, EXPRESS OR IMPLIED, INCLUDING BUT NOT LIMITED TO THE WARRANTIES OF MERCHANTABILITY, FITNESS FOR A PARTICULAR PURPOSE AND NONINFRINGEMENT. IN NO EVENT SHALL THE AUTHORS OR COPYRIGHT HOLDERS BE LIABLE FOR ANY CLAIM, DAMAGES OR OTHER LIABILITY, WHETHER IN AN ACTION OF CONTRACT, TORT OR OTHERWISE, ARISING FROM, OUT OF OR IN CONNECTION WITH THE SOFTWARE OR THE USE OR OTHER DEALINGS IN THE SOFTWARE."
      ],
      "metadata": {
        "id": "7617zExeZ0hV"
      }
    }
  ]
}